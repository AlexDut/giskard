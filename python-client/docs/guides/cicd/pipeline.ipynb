{
 "cells": [
  {
   "cell_type": "markdown",
   "source": [
    "# 🚀 Execute your test suite in your CI/CD pipeline\n",
    "\n",
    "<div class=\"alert alert-warning\">\n",
    "Warning\n",
    "\n",
    "First you'll need to know how to run Giskard's scan function\n",
    "see [Scan your ML Model](../scan/index.md)\n",
    "</div>\n",
    "\n",
    "Adding Giskard to your CI/CD pipeline will allow running its scan function on every commit to your repository, ensuring\n",
    "new models are not introducing new vulnerabilities.\n",
    "\n",
    "## Create a script to scan your model\n",
    "\n",
    "By referring to the [Scan your ML Model](../scan/index.md) guide, you can create a script that will scan your model."
   ],
   "metadata": {
    "collapsed": false
   }
  },
  {
   "cell_type": "code",
   "execution_count": null,
   "outputs": [],
   "source": [
    "import giskard\n",
    "\n",
    "# Following the scan guide, you can create a wrapped model and dataset\n",
    "scan_results = giskard.scan(wrapped_model, wrapped_dataset)"
   ],
   "metadata": {
    "collapsed": false
   }
  },
  {
   "cell_type": "markdown",
   "source": [
    "Using the results of the scan, you can then decide if your script should exit with an error code or not."
   ],
   "metadata": {
    "collapsed": false
   }
  },
  {
   "cell_type": "code",
   "execution_count": null,
   "outputs": [],
   "source": [
    "if scan_results.has_vulnerabilities:\n",
    "    print(\"Your model has vulnerabilities\")\n",
    "    exit(1)\n",
    "else:\n",
    "    print(\"Your model is safe\")\n",
    "    exit(0)"
   ],
   "metadata": {
    "collapsed": false
   }
  },
  {
   "cell_type": "markdown",
   "source": [],
   "metadata": {
    "collapsed": false
   }
  }
 ],
 "metadata": {
  "kernelspec": {
   "display_name": "Python 3",
   "language": "python",
   "name": "python3"
  },
  "language_info": {
   "codemirror_mode": {
    "name": "ipython",
    "version": 2
   },
   "file_extension": ".py",
   "mimetype": "text/x-python",
   "name": "python",
   "nbconvert_exporter": "python",
   "pygments_lexer": "ipython2",
   "version": "2.7.6"
  }
 },
 "nbformat": 4,
 "nbformat_minor": 0
}
