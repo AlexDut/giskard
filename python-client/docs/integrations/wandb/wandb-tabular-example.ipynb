{
 "cells": [
  {
   "cell_type": "markdown",
   "source": [
    "# Notebook Example - Tabular"
   ],
   "metadata": {
    "collapsed": false
   }
  },
  {
   "cell_type": "markdown",
   "source": [
    "## Detecting tabular ML models vulnerabilities in WandB with Giskard\n",
    "This example demonstrates how to efficiently scan two tabular ML models for hidden vulnerabilities using Giskard, log produced artifacts and interpret results within the WandB through just a few lines of code. The two tabular ML models used are:\n",
    "\n",
    "| Model    | Description                                                            | Training data   |\n",
    "|----------|------------------------------------------------------------------------|-----------------|\n",
    "| `model1` | A simple sklearn `LogisticRegression` model trained only for 5 epochs. | Titanic dataset |\n",
    "| `model2` | A simple sklearn `LogisticRegression` model trained for 100 epochs.    | Titanic dataset |"
   ],
   "metadata": {
    "collapsed": false
   }
  },
  {
   "cell_type": "code",
   "execution_count": null,
   "outputs": [],
   "source": [
    "import wandb\n",
    "\n",
    "from giskard import Model, Dataset, demo, explain_with_shap, scan\n",
    "\n",
    "model1, df = demo.titanic(max_iter=5)\n",
    "model2, __ = demo.titanic(max_iter=100)  # Data are same.\n",
    "models = {\"titanic-max_iter=5\": model1, \"titanic-max_iter=100\": model2}\n",
    "\n",
    "wrapped_data = Dataset(df=df, \n",
    "                       target=\"Survived\",\n",
    "                       cat_columns=['Pclass', 'Sex', \"SibSp\", \"Parch\", \"Embarked\"])\n",
    "\n",
    "for model_name, model in models.items():\n",
    "    wrapped_model = Model(model=model.predict_proba,\n",
    "                           model_type=\"classification\",\n",
    "                           feature_names=['PassengerId', 'Pclass', 'Name', 'Sex', 'Age', 'SibSp', 'Parch', 'Fare', 'Embarked'], \n",
    "                           classification_labels=model.classes_)\n",
    "    \n",
    "    # Log artifacts to the new WandB run.\n",
    "    wrapped_data.to_wandb(name=model_name)\n",
    "    \n",
    "    shap_explanation_result = explain_with_shap(wrapped_model, wrapped_data)\n",
    "    shap_explanation_result.to_wandb()\n",
    "    \n",
    "    scan_results = scan(wrapped_model, wrapped_data)\n",
    "    scan_results.to_wandb()\n",
    "    \n",
    "    test_suite = scan_results.generate_test_suite()\n",
    "    test_suite.run().to_wandb()\n",
    "\n",
    "    # Finish a current run.\n",
    "    wandb.finish()"
   ],
   "metadata": {
    "collapsed": false
   }
  },
  {
   "cell_type": "markdown",
   "source": [
    "After logging artifacts to runs, you can access the WandB UI via <http://localhost:8080>. By default, you will get to the WandB workspace, where you can compare runs. We can view, how logged artifacts are displayed:   \n",
    "  \n",
    "A dataset: \n",
    "<img src=\"../../assets/integrations/wandb/wandb-dataset.png\">\n",
    "\n",
    "SHAP bar plots for categorical features:\n",
    "<img src=\"../../assets/integrations/wandb/wandb-categorical-chart.png\">\n",
    "\n",
    "SHAP scatter plots for numerical features:\n",
    "<img src=\"../../assets/integrations/wandb/wandb-numerical-chart.png\">\n",
    "\n",
    "SHAP global feature importance plot:\n",
    "<img src=\"../../assets/integrations/wandb/wandb-global-chart.png\">\n",
    "\n",
    "Giskard scan results:\n",
    "<img src=\"../../assets/integrations/wandb/wandb-scan-result.png\">\n",
    "\n",
    "Giskard test-suite results. Only single run's table can be displayed simultaneously:\n",
    "<img src=\"../../assets/integrations/wandb/wandb-test-suite-result.png\">"
   ],
   "metadata": {
    "collapsed": false
   }
  }
 ],
 "metadata": {
  "kernelspec": {
   "display_name": "Python 3",
   "language": "python",
   "name": "python3"
  },
  "language_info": {
   "codemirror_mode": {
    "name": "ipython",
    "version": 2
   },
   "file_extension": ".py",
   "mimetype": "text/x-python",
   "name": "python",
   "nbconvert_exporter": "python",
   "pygments_lexer": "ipython2",
   "version": "2.7.6"
  }
 },
 "nbformat": 4,
 "nbformat_minor": 0
}
